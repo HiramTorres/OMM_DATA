{
 "cells": [
  {
   "cell_type": "code",
   "execution_count": 1,
   "metadata": {},
   "outputs": [
    {
     "data": {
      "image/png": "[encoded data removed]",
      "text/plain": [
       "<Figure size 720x432 with 1 Axes>"
      ]
     },
     "metadata": {},
     "output_type": "display_data"
    }
   ],
   "source": [
    "import matplotlib.pyplot as plt\n",
    "import seaborn as sns\n",
    "\n",
    "sns.set_style(\"whitegrid\")\n",
    "fig = plt.figure(figsize=(10, 6))\n",
    "dias = [\"Dia 1\", \"Dia 2\", \"Dia 3\", \"Dia 4\", \"Día 5\", \"Día 6\"]\n",
    "produccion = [3,15,23, 27,27,13]\n",
    "x = [\"Acumulado total\"]\n",
    "y = [100]\n",
    "plt.bar(dias, produccion, color=\"c\")\n",
    "plt.bar(x, y, color=\"c\")\n",
    "plt.plot(dias, produccion, color=\"r\", marker=\"o\", linestyle=\"dashdot\")\n",
    "plt.yticks(range(0, 101, 10))\n",
    "plt.title(\"Pronostico de producción GF Pen Case\")\n",
    "plt.ylabel(\"Cantidad de piezas\")\n",
    "plt.xlabel(\"Días de producción\")\n",
    "plt.savefig(\"Pronostico_GF_Pen_Case.png\")\n",
    "plt.show()"
   ]
  },
  {
   "cell_type": "code",
   "execution_count": 3,
   "metadata": {},
   "outputs": [
    {
     "name": "stdout",
     "output_type": "stream",
     "text": [
      "[4, 15, 17, 24, 23, 10]\n"
     ]
    },
    {
     "data": {
      "text/plain": [
       "'\\nfig = plt.figure(figsize=(10, 6))\\nplt.bar(dias, produccion, color=\"c\")\\nplt.plot(dias, produccion, color=\"r\", marker=\"o\", linestyle=\"dashdot\")\\nplt.xlabel = [\"Días de producción\"]\\nplt.ylabel = [\"Cantidad de piezas\"]\\nplt.title(\"Producción GF Pen Case\")\\n\\n'"
      ]
     },
     "execution_count": 3,
     "metadata": {},
     "output_type": "execute_result"
    }
   ],
   "source": [
    "import matplotlib.pyplot as plt\n",
    "import seaborn as sns\n",
    "sns.set_theme(style=\"whitegrid\")\n",
    "\n",
    "dias = [\"Dia 1\", \"Dia 2\", \"Dia 3\", \"Dia 4\", \"Día 5\", \"Día 6\"]\n",
    "produccion = [\n",
    "    int(input(\"Ingrese la producción del día 1: \")),\n",
    "    int(input(\"Ingrese la producción del día 2: \")),\n",
    "    int(input(\"Ingrese la producción del día 3: \")),\n",
    "    int(input(\"Ingrese la producción del día 4: \")),\n",
    "    int(input(\"Ingrese la producción del día 5: \")),\n",
    "    int(input(\"Ingrese la producción del día 6: \")),\n",
    "    ]\n",
    "x = (\"acumulad\")    \n",
    "\n",
    "\n",
    "for i in produccion: \n",
    "        x = produccion[0]\n",
    "        y = produccion[1]\n",
    "        z = produccion[2]\n",
    "        w = produccion[3]\n",
    "        t = produccion[4]\n",
    "        u = produccion[5]\n",
    "    \n",
    "sum = x + y+ z + w + t + u\n",
    "y = sum \n",
    "fig = plt.figure(figsize=(10, 6))\n",
    "plt.bar(dias, produccion, color=\"c\")\n",
    "plt.bar(x,y,color  = \"\"\n",
    "plt.plot(dias, produccion, color=\"r\", marker=\"o\", linestyle=\"dashdot\")\n",
    "plt.xlabel = [\"Días de producción\"]\n",
    "plt.ylabel = [\"Cantidad de piezas\"]\n",
    "plt.title(\"Producción GF Pen Case\")\n",
    "plt.show()"
   ]
  },
  {
   "cell_type": "code",
   "execution_count": 11,
   "metadata": {},
   "outputs": [
    {
     "name": "stdout",
     "output_type": "stream",
     "text": [
      "93\n"
     ]
    }
   ],
   "source": []
  },
  {
   "cell_type": "code",
   "execution_count": null,
   "metadata": {},
   "outputs": [],
   "source": []
  }
 ],
 "metadata": {
  "kernelspec": {
   "display_name": "Python 3.9.7 ('base')",
   "language": "python",
   "name": "python3"
  },
  "language_info": {
   "codemirror_mode": {
    "name": "ipython",
    "version": 3
   },
   "file_extension": ".py",
   "mimetype": "text/x-python",
   "name": "python",
   "nbconvert_exporter": "python",
   "pygments_lexer": "ipython3",
   "version": "3.9.7"
  },
  "orig_nbformat": 4,
  "vscode": {
   "interpreter": {
    "hash": "a2d9a439b7b21dc4cd728c75705dcb9cb620112ec07981834c9e3ad40b629de0"
   }
  }
 },
 "nbformat": 4,
 "nbformat_minor": 2
}
